{
 "cells": [
  {
   "cell_type": "markdown",
   "metadata": {},
   "source": [
    "![title](./images/St_Jude_Run.png)\n",
    "Image from https://www.pcmag.com/news/what-is-computer-vision\n",
    "\n",
    "\n",
    "# <center> What is Computer Vision and What are Some Use Cases?</center>\n",
    "\n",
    "Computer vision (CV) is teaching a computer to see.  Well, sort of.  It is using deep learning or some other method to train a  computer to find regions of interest in images that have a certain probability of being a particular object, such as a tree or a chair or a person or a tumor.  It's not perfect, and never will be, but it can make life much easier.\n",
    "\n",
    "Here are a few use cases where computer vision has been put into place:"
   ]
  },
  {
   "cell_type": "markdown",
   "metadata": {},
   "source": [
    "## A radiologist uses computer vision to identify brain tumors.  The margins and size of the tumor can be automatically calculated.  When subsequent images are taken, the differences in the tumor sizes can be calculated.\n",
    "\n",
    "![title](./images/Brain_Tumor_Segmentation.JPG)\n",
    "Image from https://www.researchgate.net/figure/Segmentation-result-of-the-brain-tumor-HGG-from-a-training-image-Green-edema-Red_fig3_327370214\n",
    "\n",
    "\n",
    "![title](./images/Red_Divider.JPG)\n",
    "\n"
   ]
  },
  {
   "cell_type": "markdown",
   "metadata": {},
   "source": [
    "## Researchers from Stanford, University of Michigan, Baylor College of Medicine, and Rice University used computer vision on 50 million images of vehicles taken from Google Street View.  From this dataset, they were able to use their model to identify types of cars, then determine socioeconomic characteristics of neighborhoods and how they typically vote - down to the zip code and precinct level!  Hmmm....\n",
    "\n",
    "![title](./images/Google_Street_View_Paper_Title.JPG)\n",
    "\n",
    "![title](./images/Google_Street_View_Paper_Abstract.JPG)\n",
    "Image from https://www.pnas.org/content/pnas/early/2017/11/27/1700035114.full.pdf?sid=fb6ef880-a27f-4280-a693-5c2ab16fe65d\n",
    "\n",
    "\n",
    "![title](./images/Red_Divider.JPG)"
   ]
  },
  {
   "cell_type": "markdown",
   "metadata": {},
   "source": [
    "## Thresholding was used to identify the balloon that was inserted into the heart of a pediatric patient.  Both the location of the balloon and amount of time the balloon was visible on the MRI image were tracked.  This work was done at the University of Texas Southwestern Medical School at the U-Hack Med hackathon (https://www.u-hackmed.org/).  \n",
    "\n",
    "\n",
    "![title](./images/Team_9.jpg)\n",
    "Image from https://www.markiiisys.com/blog/utsw-hackathon-2019/\n"
   ]
  },
  {
   "cell_type": "code",
   "execution_count": 1,
   "metadata": {},
   "outputs": [
    {
     "data": {
      "text/html": [
       "<video src=\"./images/MRI_Cath-Part_1.mp4\" controls  width=\"940\"  height=\"576\">\n",
       "      Your browser does not support the <code>video</code> element.\n",
       "    </video>"
      ],
      "text/plain": [
       "<IPython.core.display.Video object>"
      ]
     },
     "execution_count": 1,
     "metadata": {},
     "output_type": "execute_result"
    }
   ],
   "source": [
    "from IPython.display import Video\n",
    "Video(\"./images/MRI_Cath-Part_1.mp4\", width=940, height=576)"
   ]
  },
  {
   "cell_type": "code",
   "execution_count": 2,
   "metadata": {},
   "outputs": [
    {
     "data": {
      "text/html": [
       "<video src=\"./images/MRI_Cath-Part_2.mp4\" controls  width=\"940\"  height=\"576\">\n",
       "      Your browser does not support the <code>video</code> element.\n",
       "    </video>"
      ],
      "text/plain": [
       "<IPython.core.display.Video object>"
      ]
     },
     "execution_count": 2,
     "metadata": {},
     "output_type": "execute_result"
    }
   ],
   "source": [
    "Video(\"./images/MRI_Cath-Part_2.mp4\", width=940, height=576)"
   ]
  },
  {
   "cell_type": "markdown",
   "metadata": {},
   "source": [
    "![title](./images/Red_Divider.JPG)\n",
    "## Crowd sourced images of hotel rooms can help law enforcement identify where sex trafficking is occurring and help stop it.  https://www.traffickcam.com/  This is a perfect example of AI for Good!  Read the paper at https://arxiv.org/abs/1901.11397.\n",
    "\n",
    "![title](./images/TraffickCam_Image.JPG)\n",
    "Image from https://arxiv.org/pdf/1901.11397.pdf\n",
    "\n",
    "\n",
    "![title](./images/TraffickCam.JPG)\n",
    "Image from https://www.traffickcam.com/\n",
    "\n",
    "\n",
    "\n",
    "\n",
    "\n",
    "![title](./images/Red_Divider.JPG)\n",
    "\n"
   ]
  }
 ],
 "metadata": {
  "kernelspec": {
   "display_name": "Python 3",
   "language": "python",
   "name": "python3"
  },
  "language_info": {
   "codemirror_mode": {
    "name": "ipython",
    "version": 3
   },
   "file_extension": ".py",
   "mimetype": "text/x-python",
   "name": "python",
   "nbconvert_exporter": "python",
   "pygments_lexer": "ipython3",
   "version": "3.5.2"
  }
 },
 "nbformat": 4,
 "nbformat_minor": 2
}
