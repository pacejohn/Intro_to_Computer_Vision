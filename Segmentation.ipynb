{
 "cells": [
  {
   "cell_type": "markdown",
   "metadata": {},
   "source": [
    "# Image Segmentation\n",
    "\n",
    "Image segmentation is the process of partitioning an image into multiple segments. Image segmentation is typically used to locate objects and boundaries in images. \n",
    "\n",
    "From https://www.sciencedirect.com/topics/computer-science/image-segmentation\n",
    "\n",
    "![title](./images/Instance_Segmentation.jpg)\n",
    "Image from https://www.analyticsvidhya.com/blog/2019/07/computer-vision-implementing-mask-r-cnn-image-segmentation/"
   ]
  },
  {
   "cell_type": "markdown",
   "metadata": {},
   "source": [
    "# Semantic Segmentation vs. Instance Segmentation\n",
    "\n",
    "* Semantic segmentation—classifies objects features in the image and comprised of sets of pixels into meaningful classes that correspond with real-world categories.\n",
    "\n",
    "* Instance segmentation—identifies each instance of each object featured in the image instead of categorizing each pixel like in semantic segmentation. For example, instead of classifying five sheep as one instance, it will identify each individual sheep.\n",
    "\n",
    "From https://missinglink.ai/guides/neural-network-concepts/instance-segmentation-deep-learning/\n",
    "\n",
    "Instance_vs_Semantic_Segmentation\n",
    "![title](./images/Instance_vs_Semantic_Segmentation.JPG)\n",
    "Image from https://www.analyticsvidhya.com/blog/2019/07/computer-vision-implementing-mask-r-cnn-image-segmentation/\n",
    "\n",
    "![title](./images/OR_Segmentation.JPG)\n",
    "Image from Andrew Gostine, MD, MBA, CEO of Whiteboard Coordinator \n",
    "https://wbcoordinator.com/\n",
    "\n",
    "\n",
    "# Mask-RCNN\n",
    "\n",
    "State of the art instance segmentation framework\n",
    "![title](./images/Mask_RCNN.png)\n",
    "Image from https://medium.com/@jonathan_hui/image-segmentation-with-mask-r-cnn-ebe6d793272\n"
   ]
  }
 ],
 "metadata": {
  "kernelspec": {
   "display_name": "Python 3",
   "language": "python",
   "name": "python3"
  },
  "language_info": {
   "codemirror_mode": {
    "name": "ipython",
    "version": 3
   },
   "file_extension": ".py",
   "mimetype": "text/x-python",
   "name": "python",
   "nbconvert_exporter": "python",
   "pygments_lexer": "ipython3",
   "version": "3.5.2"
  }
 },
 "nbformat": 4,
 "nbformat_minor": 2
}
