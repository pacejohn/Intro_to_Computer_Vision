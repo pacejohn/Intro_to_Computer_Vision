{
 "cells": [
  {
   "cell_type": "markdown",
   "metadata": {},
   "source": [
    "# <center>Generative Adversarial Networks (GAN)</center>\n",
    "\n",
    "## What can GANs do?\n",
    "\n",
    "* Generate Examples for Image Datasets - Data Augmentation\n",
    "![title](./images/Generate_Images_For_Dataset.JPG)\n",
    "\n",
    "\n",
    "* Generate Realistic Photographs\n",
    "![title](./images/Generate_Realistic_Photographs.JPG)\n",
    "\n",
    "* Super Resolution - Make images easier to read\n",
    "![title](./images/Super_Resolution.JPG)\n",
    "\n",
    "* Photo Inpainting- Fill in parts of images that are missing\n",
    "![title](./images/Photo_Inpainting.JPG)\n",
    "\n",
    "Check out Jason Brownlee's great blog for more examples \n",
    "https://machinelearningmastery.com/impressive-applications-of-generative-adversarial-networks/\n",
    "\n",
    "\n",
    "![title](./images/Red_Divider.JPG)\n",
    "\n",
    "## What is a GAN?\n",
    "\n",
    "\n",
    "\n",
    "Great overview of GANs\n",
    "https://developers.google.com/machine-learning/gan/gan_structure\n",
    "\n",
    "Overview of GAN Structure\n",
    "\n",
    "A generative adversarial network (GAN) has two parts:\n",
    "\n",
    "* The generator learns to generate plausible data. The generated instances become negative training examples for the discriminator.\n",
    "* The discriminator learns to distinguish the generator's fake data from real data. The discriminator penalizes the generator for producing implausible results.\n",
    "\n",
    "When training begins, the generator produces obviously fake data, and the discriminator quickly learns to tell that it's fake:\n",
    "\n",
    "![title](./images/GAN_01.JPG)\n",
    "\n",
    "As training progresses, the generator gets closer to producing output that can fool the discriminator:\n",
    "\n",
    "![title](./images/GAN_02.JPG)\n",
    "\n",
    "Finally, if generator training goes well, the discriminator gets worse at telling the difference between real and fake. It starts to classify fake data as real, and its accuracy decreases.\n",
    "\n",
    "![title](./images/GAN_03.JPG)\n",
    "\n",
    "Here's a picture of the whole system:\n",
    "\n",
    "![title](./images/GAN_Architecture.JPG)\n",
    "\n",
    "Both the generator and the discriminator are neural networks. The generator output is connected directly to the discriminator input. Through backpropagation, the discriminator's classification provides a signal that the generator uses to update its weights.\n",
    "\n"
   ]
  },
  {
   "cell_type": "markdown",
   "metadata": {},
   "source": []
  }
 ],
 "metadata": {
  "kernelspec": {
   "display_name": "Python 3",
   "language": "python",
   "name": "python3"
  },
  "language_info": {
   "codemirror_mode": {
    "name": "ipython",
    "version": 3
   },
   "file_extension": ".py",
   "mimetype": "text/x-python",
   "name": "python",
   "nbconvert_exporter": "python",
   "pygments_lexer": "ipython3",
   "version": "3.5.2"
  }
 },
 "nbformat": 4,
 "nbformat_minor": 2
}
